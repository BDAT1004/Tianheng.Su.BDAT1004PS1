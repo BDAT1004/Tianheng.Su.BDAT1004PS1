{
 "cells": [
  {
   "cell_type": "markdown",
   "metadata": {},
   "source": [
    "## Problem Set 1"
   ]
  },
  {
   "cell_type": "markdown",
   "metadata": {},
   "source": [
    "### Question 1\n",
    "What data type is each of the following?"
   ]
  },
  {
   "cell_type": "code",
   "execution_count": 62,
   "metadata": {},
   "outputs": [
    {
     "name": "stdout",
     "output_type": "stream",
     "text": [
      "|Value        | Data Type       |\n",
      "|------------ | --------------- |\n",
      "|5            | <class 'int'>   |\n",
      "|------------ | --------------- |\n",
      "|5.0          | <class 'float'> |\n",
      "|------------ | --------------- |\n",
      "|5>1          | <class 'bool'>  |\n",
      "|------------ | --------------- |\n",
      "|'5'          | <class 'str'>   |\n",
      "|------------ | --------------- |\n",
      "|5*2          | <class 'int'>   |\n",
      "|------------ | --------------- |\n",
      "|'5'*2        | <class 'str'>   |\n",
      "|------------ | --------------- |\n",
      "|'5'+'2'      | <class 'str'>   |\n",
      "|------------ | --------------- |\n",
      "|5/2          | <class 'float'> |\n",
      "|------------ | --------------- |\n",
      "|5//2         | <class 'int'>   |\n",
      "|------------ | --------------- |\n",
      "|[5,2,1]      | <class 'list'>  |\n",
      "|------------ | --------------- |\n",
      "|5 in [1,4,6] | <class 'bool'>  |\n",
      "|------------ | --------------- |\n",
      "|math.pi      | <class 'float'> |\n"
     ]
    }
   ],
   "source": [
    "import math\n",
    "a = 5\n",
    "b = 5.0\n",
    "c = 5 > 1\n",
    "d = '5'\n",
    "e = 5 * 2\n",
    "f = '5' * 2\n",
    "g = '5' + '2'\n",
    "h = 5 / 2\n",
    "i = 5 // 2\n",
    "j = [5, 2, 1]\n",
    "k = 5 in [1, 4, 6]\n",
    "l = math.pi\n",
    "lstName = [\"5\",\"5.0\",\"5>1\",\"'5'\",\"5*2\",\"'5'*2\",\"'5'+'2'\",\"5/2\",\"5//2\",\"[5,2,1]\",\"5 in [1,4,6]\",\"math.pi\"]\n",
    "\n",
    "lst = (a,b,c,d,e,f,g,h,i,j,k,l)\n",
    "i = 0\n",
    "print ('|{:12} | {:15} |'.format('Value','Data Type'))\n",
    "for each in lst:\n",
    "    datatype = type(each)\n",
    "    print ('|{:12} | {:15} |'.format('------------','---------------'))\n",
    "    print ('|{:12} | {:15} |'.format(lstName[i],str(datatype)))\n",
    "    i+=1\n"
   ]
  },
  {
   "cell_type": "markdown",
   "metadata": {},
   "source": [
    "### Question 2\n",
    "Write (and evaluate) Python expressions that answer these questions:\n",
    "\n",
    "a. How many letters are there in 'Supercalifragilisticexpialidocious'?\n",
    "\n",
    "b. Does 'Supercalifragilisticexpialidocious' contain 'ice' as a substring?\n",
    "\n",
    "c. Which of the following words is the longest: Supercalifragilisticexpialidocious, Honorificabilitudinitatibus, or Bababadalgharaghtakamminarronnkonn?\n",
    "\n",
    "d. Which composer comes first in the dictionary: 'Berlioz', 'Borodin', 'Brian',\n",
    "'Bartok', 'Bellini', 'Buxtehude', 'Bernstein'. Which one comes last?"
   ]
  },
  {
   "cell_type": "code",
   "execution_count": 63,
   "metadata": {},
   "outputs": [
    {
     "name": "stdout",
     "output_type": "stream",
     "text": [
      "a. There are 34 letters in total.\n",
      "b. 'ice' is in it!\n",
      "c. The longest word among the three is Supercalifragilisticexpialidocious\n",
      "d. Bartok comes first in dictionary.\n",
      "   Buxtehude comes last in dictionary.\n"
     ]
    }
   ],
   "source": [
    "#a.\n",
    "letters = \"Supercalifragilisticexpialidocious\"\n",
    "print ('a. There are ' + str(len(letters)) + ' letters in total.')\n",
    "\n",
    "#b.\n",
    "if letters.find('ice') > 0:\n",
    "    print ('b. \\'ice\\' is in it!')\n",
    "else:\n",
    "    print ('b. \\'ice\\' is NOT in it!')\n",
    "\n",
    "#c.\n",
    "longest = max('Supercalifragilisticexpialidocious', 'Honorificabilitudinitatibus', 'Bababadalgharaghtakamminarronnkonn')\n",
    "print ('c. The longest word among the three is ' + longest)\n",
    "\n",
    "#d.\n",
    "names = ('Berlioz', 'Borodin', 'Brian', 'Bartok', 'Bellini', 'Buxtehude', 'Bernstein')\n",
    "first = min(names)\n",
    "last = max(names)\n",
    "print ('d. ' + first + ' comes first in dictionary.')\n",
    "print ('   ' + last + ' comes last in dictionary.')\n"
   ]
  },
  {
   "cell_type": "markdown",
   "metadata": {},
   "source": [
    "### Question 3\n",
    "a. Write a function inside(x,y,x1,y1,x2,y2) that returns True or False\n",
    "depending on whether the point (x,y) lies in the rectangle with lower left\n",
    "corner (x1,y1) and upper right corner (x2,y2).\n"
   ]
  },
  {
   "cell_type": "code",
   "execution_count": 1,
   "metadata": {},
   "outputs": [
    {
     "name": "stdout",
     "output_type": "stream",
     "text": [
      ">>> inside(1,1,0,0,2,3)\n",
      "True\n",
      ">>> inside(-1,-1,0,0,2,3)\n",
      "Fale\n"
     ]
    }
   ],
   "source": [
    "#a.\n",
    "def inside(x,y,x1,y1,x2,y2):\n",
    "    if x>=x1 and x<=x2 and y>=y1 and y<=y2:\n",
    "        print ('True')\n",
    "    else:\n",
    "        print ('Fale')\n",
    "        \n",
    "print('>>> inside(1,1,0,0,2,3)')\n",
    "inside(1,1,0,0,2,3)\n",
    "print('>>> inside(-1,-1,0,0,2,3)')\n",
    "inside(-1,-1,0,0,2,3)\n",
    "    "
   ]
  },
  {
   "cell_type": "markdown",
   "metadata": {},
   "source": [
    "b. Use function inside() from part a. to write an expression that tests whether\n",
    "the point (1,1) lies in both of the following rectangles: one with lower left\n",
    "corner (0.3, 0.5) and upper right corner (1.1, 0.7) and the other with lower\n",
    "left corner (0.5, 0.2) and upper right corner (1.1, 2)."
   ]
  },
  {
   "cell_type": "code",
   "execution_count": 66,
   "metadata": {},
   "outputs": [
    {
     "name": "stdout",
     "output_type": "stream",
     "text": [
      ">>>inside(1,1,0.3,0.5,1.1,0.7)\n",
      "Fale\n",
      ">>>inside(1,1,0.5,0.2,1.1,2)\n",
      "True\n"
     ]
    }
   ],
   "source": [
    "#b.\n",
    "print('>>> inside(1,1,0.3,0.5,1.1,0.7)')\n",
    "inside(1,1,0.3,0.5,1.1,0.7)\n",
    "print('>>> inside(1,1,0.5,0.2,1.1,2)')\n",
    "inside(1,1,0.5,0.2,1.1,2)"
   ]
  },
  {
   "cell_type": "markdown",
   "metadata": {},
   "source": [
    "### Question 4\n",
    "You can turn a word into pig-Latin using the following two rules (simplified):\n",
    "\n",
    "    • If the word starts with a consonant, move that letter to the end and append 'ay'. For example, 'happy' becomes 'appyhay' and 'pencil' becomes 'encilpay'.\n",
    "\n",
    "    • If the word starts with a vowel, simply append 'way' to the end of the word. For example, 'enter' becomes 'enterway' and 'other' becomes 'otherway' . For our purposes, there are 5 vowels: a, e, i, o, u (so we count y as a consonant).\n",
    "\n",
    "Write a function pig() that takes a word (i.e., a string) as input and returns its pig-\n",
    "Latin form. Your function should still work if the input word contains upper case\n",
    "characters. Your output should always be lower case however."
   ]
  },
  {
   "cell_type": "code",
   "execution_count": 19,
   "metadata": {},
   "outputs": [
    {
     "name": "stdout",
     "output_type": "stream",
     "text": [
      ">>>pig('happy')\n",
      "'appyhay'\n",
      ">>>pig('Enter')\n",
      "'enterway'\n"
     ]
    }
   ],
   "source": [
    "def pig(pstr):\n",
    "    pstr = pstr.lower()\n",
    "    if pstr[0] in ['a','e','i','o','u']:\n",
    "        print (\"'\" + pstr + 'way\\'')\n",
    "    else:\n",
    "        print (\"'\" + pstr[1:] + pstr[0] + 'ay\\'')\n",
    "\n",
    "#pstr = input('Please input any word, we can turn it into pig-Latin\\n')\n",
    "print(\">>> pig('happy')\")\n",
    "pig('happy')\n",
    "print(\">>> pig('Enter')\")\n",
    "pig('Enter')"
   ]
  },
  {
   "cell_type": "markdown",
   "metadata": {},
   "source": [
    "### Question 5\n",
    "File bloodtype1.txt records blood-types of patients (A, B, AB, O or OO) at a clinic.\n",
    "Write a function bldcount() that reads the file with name name and reports (i.e., prints) how many patients there are in each bloodtype."
   ]
  },
  {
   "cell_type": "code",
   "execution_count": 87,
   "metadata": {},
   "outputs": [
    {
     "name": "stdout",
     "output_type": "stream",
     "text": [
      ">>>bldcount('bloodtype.txt')\n",
      "There are 15 patients of blood type A.\n",
      "There is one patient of blood type B.\n",
      "There are 13 patients of blood type AB.\n",
      "There are 15 patients of blood type O.\n",
      "There are no patients of blood type OO.\n"
     ]
    }
   ],
   "source": [
    "def bldcount(filestr):\n",
    "    a = b = ab = o = oo =0\n",
    "    allInfo = open(filestr)\n",
    "    line = allInfo.readline()\n",
    "    line = line.split(' ') # very very important!!!!!!!!!\n",
    "    for each in line:\n",
    "\n",
    "        if each=='A':\n",
    "            a+=1\n",
    "        if each=='B':\n",
    "            b+=1\n",
    "        if each=='AB':\n",
    "            ab+=1\n",
    "        if each=='O':\n",
    "            o+=1\n",
    "        if each =='OO':\n",
    "            oo+=1   \n",
    "    lstNumber = [a,b,ab,o,oo]\n",
    "    lstType = ['A','B','AB','O','OO']\n",
    "    i = 0\n",
    "    print (\">>> bldcount('bloodtype.txt')\")    \n",
    "    for i in range(0,5):\n",
    "        if lstNumber[i]!=0 and lstNumber[i]!=1:\n",
    "            print ('There are ' + str(lstNumber[i]) + ' patients of blood type ' + lstType[i] + \".\")\n",
    "        elif lstNumber[i]==0:\n",
    "            print ('There are no patients of blood type ' + lstType[i] + \".\")\n",
    "        elif lstNumber[i]==1:\n",
    "            print ('There is one patient of blood type ' + lstType[i] + \".\")\n",
    "        \n",
    "filestr = bldcount('bloodtype.txt')"
   ]
  },
  {
   "cell_type": "markdown",
   "metadata": {},
   "source": [
    "### Question 6\n",
    "Write a function curconv() that takes as input:\n",
    "    1. a currency represented using a string (e.g., 'JPY' for the Japanese Yen or \n",
    "       'EUR' for the Euro)\n",
    "    2. an amount\n",
    "and then converts and returns the amount in US dollars."
   ]
  },
  {
   "cell_type": "code",
   "execution_count": 12,
   "metadata": {},
   "outputs": [
    {
     "name": "stdout",
     "output_type": "stream",
     "text": [
      ">>>curconv('EUR',100)\n",
      "122.96544\n",
      ">>>curconv('JPY',100)\n",
      "1.241401\n"
     ]
    }
   ],
   "source": [
    "def curconv(curStr,amount):\n",
    "    convAmount=0\n",
    "    allInfo = open(\"currencies.txt\")\n",
    "    for each in allInfo:\n",
    "        each = each.split('\\t') # very important!!!!!!!!!\n",
    "        if curStr==each[0]:\n",
    "            convAmount=float(each[1])*float(amount)\n",
    "            convAmount=\"{}\".format(convAmount)       # print(\"%.2f\" % a)  print(\"{:.2f}\".format(a))\n",
    "            #print(\"You have \" + convAmount + \" US dollars.\" )\n",
    "            print(convAmount)\n",
    "            \n",
    "#curType = input('Please input the  currency\\n').upper()\n",
    "#curAmount = input('Please input the amount\\n')\n",
    "#curConv(curType,curAmount)\n",
    "\n",
    "print (\">>> curconv('EUR',100)\")    \n",
    "curconv('EUR',100)\n",
    "\n",
    "print (\">>> curconv('JPY',100)\")    \n",
    "curconv('JPY',100)\n"
   ]
  },
  {
   "cell_type": "markdown",
   "metadata": {},
   "source": [
    "### Question 7\n",
    "Each of the following will cause an exception (an error). Identify what type of\n",
    "exception each will cause."
   ]
  },
  {
   "cell_type": "markdown",
   "metadata": {},
   "source": [
    "##### \"Trying to add incompatible variables, as in adding 6 + ‘a’\"\n",
    "    6 + 'a'\n",
    "    TypeError: unsupported operand type(s) for +: 'int' and 'str'\n",
    "    \n",
    "##### Referring to the 12th item of a list that has only 10 items\n",
    "    lst = [1,2,3,4,5,6,7,8,9,10]\n",
    "    lst[12]\n",
    "    IndexError: list index out of range\n",
    "##### Using a value that is out of range for a function’s input, such as calling math.sqrt(-1.0)\n",
    "    import math\n",
    "    math.sqrt(-1.0)\n",
    "    ValueError: math domain error\n",
    "##### Using an undeclared variable, such as print(x) when x has not been defined\n",
    "    print(x)\n",
    "    NameError: name 'x' is not defined\n",
    "##### Trying to open a file that does not exist, such as mistyping the file name or looking in the wrong directory.\n",
    "    open('currenciez.txt')\n",
    "    FileNotFoundError: [Errno 2] No such file or directory: 'currenciez.txt'\n"
   ]
  },
  {
   "cell_type": "markdown",
   "metadata": {},
   "source": [
    "### Question 8\n",
    "Encryption is the process of hiding the meaning of a text by substituting letters in the message with other letters, according to some system. If the process is successful, no one but the intended recipient can understand the encrypted message. Cryptanalysis refers to attempts to undo the encryption, even if some details of the encryption are unknown (for example, if an encrypted message has been intercepted). The first step of cryptanalysis is often to build up a table of letter frequencies in the encrypted text. Assume that the string letters is already defined as 'abcdefghijklmnopqrstuvwxyz'. Write a function called frequencies() that takes a string as its only parameter, and returns a list of integers, showing the number of times each character appears in the text. Your function may ignore any characters that are not in letters."
   ]
  },
  {
   "cell_type": "code",
   "execution_count": 2,
   "metadata": {},
   "outputs": [
    {
     "name": "stdout",
     "output_type": "stream",
     "text": [
      ">>> frequencies('The quick red fox got bored and went home.')\n",
      "[1, 1, 1, 3, 5, 1, 1, 2, 1, 0, 1, 0, 1, 2, 4, 0, 1, 2, 0, 3, 1, 0, 1, 1, 0, 0]\n",
      ">>> frequencies('apple')\n",
      "[1, 0, 0, 0, 1, 0, 0, 0, 0, 0, 0, 1, 0, 0, 0, 2, 0, 0, 0, 0, 0, 0, 0, 0, 0, 0]\n",
      "[0, 0, 0, 0, 0, 0, 0, 0, 0, 0, 0, 0, 0, 0, 0, 0, 0, 0, 0, 0, 1, 0, 0, 2, 0, 2]\n"
     ]
    }
   ],
   "source": [
    "def frequencies(inputletters):\n",
    "    inputletters = inputletters.lower()\n",
    "    letterlist = 'abcdefghijklmnopqrstuvwxyz'\n",
    "    letterCount = [0]*26\n",
    "    for each in inputletters:\n",
    "        index = letterlist.find(each)\n",
    "        if each==letterlist[index]: \n",
    "            letterCount[index]+=1 \n",
    "        \n",
    "    print(letterCount)\n",
    "    \n",
    "#inputletters = input('Please type in any word: ')\n",
    "#frequencies (inputletters)\n",
    "\n",
    "print(\">>> frequencies('The quick red fox got bored and went home.')\")\n",
    "frequencies('The quick red fox got bored and went home.')\n",
    "\n",
    "print(\">>> frequencies('apple')\")\n",
    "frequencies('apple')\n",
    "\n",
    "frequencies('zzxxu')"
   ]
  },
  {
   "cell_type": "markdown",
   "metadata": {},
   "source": [
    "# Question 9\n",
    "The Sieve of Erastophenes is an algorithm -- known to ancient Greeks -- that finds all prime numbers up to a given number n. It does this by first creating a list L from 2 to n and an (initially empty) list primeL. The algorithm then takes the first number in list L (2) and appends it to list primeL, and then removes 2 and all its multiples (4,6,8,10,12, ...) from L. The algorithm then takes the new first number in L (3) and appends it to list primeL, and then removes from L 3 and all its remaining multiples (9,15,21,...). So, in every iteration, the first number of list L is appended to list primeL and then it and its multiples are removed from list L. The iterations stop when list L becomes empty. Write a function sieve() that takes as input a positive integer n, implements the above algorithm, and returns a list of all prime numbers up to n."
   ]
  },
  {
   "cell_type": "code",
   "execution_count": 46,
   "metadata": {},
   "outputs": [
    {
     "name": "stdout",
     "output_type": "stream",
     "text": [
      ">>> sieve(56)\n",
      "[2, 3, 5, 7, 11, 13, 17, 19, 23, 29, 31, 37, 41, 43, 47, 53]\n",
      ">>> sieve(32)\n",
      "[2, 3, 5, 7, 11, 13, 17, 19, 23, 29, 31, 37, 41, 43, 47, 53, 59, 61, 67, 71, 73, 79, 83, 89, 97, 101, 103, 107, 109, 113, 127, 131, 137, 139, 149, 151, 157, 163, 167, 173, 179, 181, 191, 193, 197, 199, 211, 223, 227, 229, 233, 239, 241, 251, 257, 263, 269, 271, 277, 281, 283, 293, 307, 311, 313, 317, 331, 337, 347, 349, 353, 359, 367]\n",
      ">>> sieve(32)\n",
      "[2, 3, 5, 7, 11, 13, 17, 19, 23, 29, 31]\n"
     ]
    }
   ],
   "source": [
    "def sieve(n):\n",
    "    primeL = []\n",
    "    L = [i for i in range(2,n)]\n",
    "    while(len(L)>0):\n",
    "        number = L.pop(0)\n",
    "        primeL.append(number)\n",
    "        lengthL = len(L)\n",
    "        for each in L:\n",
    "            if each%number == 0:\n",
    "                L.remove(each) \n",
    "            else:\n",
    "                pass \n",
    "                \n",
    "    print(primeL)\n",
    "\n",
    "print(\">>> sieve(56)\")\n",
    "sieve(56)   \n",
    "print(\">>> sieve(32)\")\n",
    "sieve(368) \n",
    "print(\">>> sieve(32)\")\n",
    "sieve(32)\n"
   ]
  },
  {
   "cell_type": "markdown",
   "metadata": {},
   "source": [
    "# Question 10\n",
    "Implement function triangleArea(a,b,c) that takes as input the lengths of the 3\n",
    "sides of a triangle and returns the area of the triangle. By Heron's formula, the area\n",
    "of a triangle with side lengths a, b, and c is\n",
    "s(s - a)(s -b)(s -c), where\n",
    "s = (a+b+c) /2."
   ]
  },
  {
   "cell_type": "code",
   "execution_count": 47,
   "metadata": {},
   "outputs": [
    {
     "name": "stdout",
     "output_type": "stream",
     "text": [
      ">>> triangleArea(2,2,2)\n",
      "1.7320508075688772\n"
     ]
    }
   ],
   "source": [
    "import math\n",
    "def triangleArea(a,b,c):\n",
    "    a=int(a)\n",
    "    b=int(b) \n",
    "    c=int(c)\n",
    "    s=(a+b+c)/2\n",
    "    area=math.sqrt(s*(s-a)*(s-b)*(s-c))\n",
    "    print (area)\n",
    "    \n",
    "#a = input('Please type in the first side: ')\n",
    "#b = input('Please type in the second side: ')\n",
    "#c = input('Please type in the third side: ')\n",
    "#triangleArea(a,b,c)\n",
    "\n",
    "print('>>> triangleArea(2,2,2)')\n",
    "triangleArea(2,2,2)"
   ]
  },
  {
   "cell_type": "code",
   "execution_count": null,
   "metadata": {},
   "outputs": [],
   "source": []
  },
  {
   "cell_type": "code",
   "execution_count": null,
   "metadata": {},
   "outputs": [],
   "source": []
  }
 ],
 "metadata": {
  "kernelspec": {
   "display_name": "Python 3",
   "language": "python",
   "name": "python3"
  },
  "language_info": {
   "codemirror_mode": {
    "name": "ipython",
    "version": 3
   },
   "file_extension": ".py",
   "mimetype": "text/x-python",
   "name": "python",
   "nbconvert_exporter": "python",
   "pygments_lexer": "ipython3",
   "version": "3.7.6"
  }
 },
 "nbformat": 4,
 "nbformat_minor": 4
}
